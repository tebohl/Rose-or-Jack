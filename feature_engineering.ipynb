{
 "cells": [
  {
   "cell_type": "code",
   "execution_count": null,
   "id": "456aaca0",
   "metadata": {},
   "outputs": [],
   "source": [
    "# Dependencies\n",
    "import numpy as np\n",
    "import pandas as pd\n",
    "import matplotlib.pyplot as plt\n",
    "import tensorflow as tf\n",
    "\n",
    "from pathlib import Path\n",
    "from sklearn.model_selection import train_test_split\n",
    "from sklearn.preprocessing import StandardScaler\n",
    "from sklearn.linear_model import LogisticRegression\n",
    "from sklearn.neighbors import KNeighborsClassifier\n",
    "from sklearn import tree\n",
    "from sklearn.ensemble import RandomForestClassifier\n",
    "from sklearn.datasets import make_classification"
   ]
  },
  {
   "cell_type": "code",
   "execution_count": null,
   "id": "d0641f3a",
   "metadata": {},
   "outputs": [],
   "source": [
    "# Import the data\n",
    "df_train = pd.read_excel('Resources/titanic_full.xls')\n",
    "df_train.head(50)"
   ]
  },
  {
   "cell_type": "code",
   "execution_count": null,
   "id": "4b1c76f1",
   "metadata": {},
   "outputs": [],
   "source": [
    "cabin_only = df_train[[\"cabin\"]].copy()\n",
    "cabin_only[\"Cabin_Data\"] = cabin_only[\"cabin\"].isnull().apply(lambda x: not x)"
   ]
  },
  {
   "cell_type": "code",
   "execution_count": null,
   "id": "004628c2",
   "metadata": {},
   "outputs": [],
   "source": [
    "cabin_only[\"Deck\"] = cabin_only[\"cabin\"].str.slice(0,1)\n",
    "cabin_only[\"Room\"] = cabin_only[\"cabin\"].str.slice(1,5).str.extract(\"([0-9]+)\", expand=False).astype(\"float\")\n",
    "cabin_only[cabin_only[\"Cabin_Data\"]]\n"
   ]
  },
  {
   "cell_type": "code",
   "execution_count": null,
   "id": "9af66885",
   "metadata": {},
   "outputs": [],
   "source": [
    "cabin_only.drop([\"cabin\", \"Cabin_Data\"], axis=1, inplace=True, errors=\"ignore\")\n"
   ]
  },
  {
   "cell_type": "code",
   "execution_count": null,
   "id": "f1407c66",
   "metadata": {},
   "outputs": [],
   "source": [
    "cabin_only[\"Deck\"] = cabin_only[\"Deck\"].fillna(\"N\")\n",
    "cabin_only[\"Room\"] = cabin_only[\"Room\"].fillna(cabin_only[\"Room\"].mean())"
   ]
  },
  {
   "cell_type": "code",
   "execution_count": null,
   "id": "65bda0d0",
   "metadata": {},
   "outputs": [],
   "source": [
    "cabin_only.head(30)"
   ]
  },
  {
   "cell_type": "code",
   "execution_count": null,
   "id": "7086bed3",
   "metadata": {},
   "outputs": [],
   "source": [
    "df_train = df_train.join(cabin_only)\n"
   ]
  },
  {
   "cell_type": "code",
   "execution_count": null,
   "id": "54194a46",
   "metadata": {},
   "outputs": [],
   "source": [
    "df_train['family']=df_train['sibsp']+df_train['parch']+1\n",
    "df_train.head(50)"
   ]
  },
  {
   "cell_type": "code",
   "execution_count": null,
   "id": "b488a429",
   "metadata": {},
   "outputs": [],
   "source": [
    "# attempt = df_train[['ticket','boat']].dropna().set_index('ticket')\n",
    "# attempt_dict = attempt.to_dict()\n",
    "# attempt_dict = list(attempt_dict.values())\n",
    "# attempt_dict\n",
    "# # df_train['attempted_boat'] = df_train['attempted_boat'].map(attempt_dict)\n"
   ]
  },
  {
   "cell_type": "code",
   "execution_count": null,
   "id": "571b55f0",
   "metadata": {},
   "outputs": [],
   "source": [
    "stair = []\n",
    "for x in range(0,len(df_train)):\n",
    "    deck = df_train[\"Deck\"][x]\n",
    "    room = df_train[\"Room\"][x]\n",
    "    if (deck ==\"A\") or (((deck==\"B\") or (deck==\"C\")) and (room < 70)) or (((deck==\"D\") or (deck==\"E\")) and (room < 50)):\n",
    "        stair.append(1)\n",
    "        \n",
    "    elif (deck == \"N\"):\n",
    "        stair.append(\"N\")\n",
    "        \n",
    "    else: stair.append(0)\n",
    "    \n",
    "df_train[\"Stair\"]= stair\n",
    "\n",
    "df_train"
   ]
  },
  {
   "cell_type": "code",
   "execution_count": null,
   "id": "ef6be388",
   "metadata": {},
   "outputs": [],
   "source": [
    "df_train.drop([\"name\",\"ticket\",\"cabin\",\"home.dest\",\"body\",\"boat\",\"embarked\",\"Room\",\"sibsp\",'parch'], axis=1, inplace=True)\n",
    "df_train.head()"
   ]
  },
  {
   "cell_type": "code",
   "execution_count": null,
   "id": "14a8e144",
   "metadata": {},
   "outputs": [],
   "source": [
    "df_train['pclass'] = df_train['pclass'].replace([1,2,3],['1st','2nd','3rd'])"
   ]
  },
  {
   "cell_type": "code",
   "execution_count": null,
   "id": "a3305f2c",
   "metadata": {},
   "outputs": [],
   "source": [
    "df_train = df_train.dropna(how='any')\n",
    "df_train = pd.get_dummies(df_train)"
   ]
  },
  {
   "cell_type": "code",
   "execution_count": null,
   "id": "fc80a235",
   "metadata": {},
   "outputs": [],
   "source": [
    "y = df_train[\"survived\"].values\n",
    "X = df_train.drop(\"survived\", axis=1)\n",
    "\n",
    "X_train, X_test, y_train, y_test = train_test_split(X, y, random_state=1)\n",
    "\n",
    "X_train.head()"
   ]
  },
  {
   "cell_type": "code",
   "execution_count": null,
   "id": "b61169f1",
   "metadata": {},
   "outputs": [],
   "source": [
    "scaler = StandardScaler().fit(X_train)\n",
    "X_train_scaled = scaler.transform(X_train)\n",
    "X_test_scaled = scaler.transform(X_test)"
   ]
  },
  {
   "cell_type": "code",
   "execution_count": null,
   "id": "8eb6cf3c",
   "metadata": {},
   "outputs": [],
   "source": [
    "classifier = LogisticRegression(solver='lbfgs',max_iter=1000)\n",
    "classifier.fit(X_train, y_train)\n",
    "print(f\"Training Data Score: {classifier.score(X_train, y_train)}\")\n",
    "print(f\"Testing Data Score: {classifier.score(X_test, y_test)}\")"
   ]
  },
  {
   "cell_type": "code",
   "execution_count": null,
   "id": "f2bb521a",
   "metadata": {},
   "outputs": [],
   "source": [
    "# Loop through different k values to find which has the highest accuracy.\n",
    "# Note: We use only odd numbers because we don't want any ties.\n",
    "train_scores = []\n",
    "test_scores = []\n",
    "for k in range(1, 20, 2):\n",
    "    knn = KNeighborsClassifier(n_neighbors=k)\n",
    "    knn.fit(X_train_scaled, y_train)\n",
    "    train_score = knn.score(X_train_scaled, y_train)\n",
    "    test_score = knn.score(X_test_scaled, y_test)\n",
    "    train_scores.append(train_score)\n",
    "    test_scores.append(test_score)\n",
    "    print(f\"k: {k}, Train/Test Score: {train_score:.3f}/{test_score:.3f}\")\n",
    "    \n",
    "    \n",
    "plt.plot(range(1, 20, 2), train_scores, marker='o')\n",
    "plt.plot(range(1, 20, 2), test_scores, marker=\"x\")\n",
    "plt.xlabel(\"k neighbors\")\n",
    "plt.ylabel(\"Testing accuracy Score\")\n",
    "plt.show()"
   ]
  },
  {
   "cell_type": "code",
   "execution_count": null,
   "id": "e87c9003",
   "metadata": {},
   "outputs": [],
   "source": [
    "# Define the model - deep neural net, i.e., the number of input features and hidden nodes\n",
    "# for each layer.\n",
    "nn = tf.keras.models.Sequential()\n",
    "\n",
    "# First hidden layer\n",
    "nn.add(tf.keras.layers.Dense(units=40, activation=\"relu\", input_dim=20))\n",
    "\n",
    "# Second hidden layer\n",
    "nn.add(tf.keras.layers.Dense(units=20, activation=\"tanh\"))\n",
    "\n",
    "# Third hidden layer\n",
    "nn.add(tf.keras.layers.Dense(units=20, activation=\"relu\"))\n",
    "\n",
    "# Output layer\n",
    "nn.add(tf.keras.layers.Dense(units=1, activation=\"sigmoid\"))\n",
    "\n",
    "# Check the structure of the model\n",
    "nn.summary()"
   ]
  },
  {
   "cell_type": "code",
   "execution_count": null,
   "id": "cd20867b",
   "metadata": {},
   "outputs": [],
   "source": [
    "nn.compile(loss=\"binary_crossentropy\", optimizer=\"adam\", metrics=[\"accuracy\"])"
   ]
  },
  {
   "cell_type": "code",
   "execution_count": null,
   "id": "9901bb74",
   "metadata": {},
   "outputs": [],
   "source": [
    "fit_model = nn.fit(X_train_scaled, y_train, epochs=100)"
   ]
  },
  {
   "cell_type": "code",
   "execution_count": null,
   "id": "16c15848",
   "metadata": {},
   "outputs": [],
   "source": [
    "model_loss, model_accuracy = nn.evaluate(X_test_scaled,y_test,verbose=2)\n",
    "print(f\"Loss: {model_loss}, Accuracy: {model_accuracy}\")"
   ]
  },
  {
   "cell_type": "code",
   "execution_count": null,
   "id": "9f29b9e4",
   "metadata": {},
   "outputs": [],
   "source": [
    "# Create data\n",
    "X, y = make_classification(random_state=1, n_features=20, n_informative=5, n_redundant=0)\n",
    "X = pd.DataFrame(X)\n",
    "X_train, X_test, y_train, y_test = train_test_split(X, y, random_state=1)\n",
    "scaler = StandardScaler().fit(X_train)\n",
    "X_train_scaled = scaler.transform(X_train)\n",
    "X_test_scaled = scaler.transform(X_test)"
   ]
  },
  {
   "cell_type": "code",
   "execution_count": null,
   "id": "72ae85a7",
   "metadata": {},
   "outputs": [],
   "source": [
    "clf = RandomForestClassifier(random_state=1, n_estimators=500).fit(X_train_scaled, y_train)\n",
    "print(f'Training Score: {clf.score(X_train_scaled, y_train)}')\n",
    "print(f'Testing Score: {clf.score(X_test_scaled, y_test)}')"
   ]
  },
  {
   "cell_type": "code",
   "execution_count": null,
   "id": "78c588ac",
   "metadata": {},
   "outputs": [],
   "source": [
    "features = clf.feature_importances_\n",
    "print(features)\n",
    "plt.bar(x = range(len(features)), height=features)\n",
    "plt.show()"
   ]
  },
  {
   "cell_type": "code",
   "execution_count": null,
   "id": "96627e4f",
   "metadata": {},
   "outputs": [],
   "source": []
  }
 ],
 "metadata": {
  "kernelspec": {
   "display_name": "Python [conda env:PythonData38] *",
   "language": "python",
   "name": "conda-env-PythonData38-py"
  },
  "language_info": {
   "codemirror_mode": {
    "name": "ipython",
    "version": 3
   },
   "file_extension": ".py",
   "mimetype": "text/x-python",
   "name": "python",
   "nbconvert_exporter": "python",
   "pygments_lexer": "ipython3",
   "version": "3.8.12"
  }
 },
 "nbformat": 4,
 "nbformat_minor": 5
}
