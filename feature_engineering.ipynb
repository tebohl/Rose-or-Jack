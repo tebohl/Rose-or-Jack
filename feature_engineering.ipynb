{
 "cells": [
  {
   "cell_type": "code",
   "execution_count": null,
   "id": "456aaca0",
   "metadata": {},
   "outputs": [],
   "source": [
    "# Dependencies\n",
    "import numpy as np\n",
    "import pandas as pd\n",
    "import matplotlib.pyplot as plt\n",
    "import tensorflow as tf\n",
    "\n",
    "from pathlib import Path\n",
    "from sklearn.model_selection import train_test_split\n",
    "from sklearn.preprocessing import StandardScaler\n",
    "from sklearn.linear_model import LogisticRegression\n",
    "from sklearn.neighbors import KNeighborsClassifier\n",
    "from sklearn import tree\n",
    "from sklearn.ensemble import RandomForestClassifier\n",
    "from sklearn.datasets import make_classification"
   ]
  },
  {
   "cell_type": "code",
   "execution_count": null,
   "id": "d0641f3a",
   "metadata": {},
   "outputs": [],
   "source": [
    "# Import the data\n",
    "df_train = pd.read_excel('Resources/titanic_full.xls')\n",
    "df_train.head(50)"
   ]
  },
  {
   "cell_type": "code",
   "execution_count": null,
   "id": "4b1c76f1",
   "metadata": {},
   "outputs": [],
   "source": [
    "cabin_only = df_train[[\"cabin\"]].copy()\n",
    "cabin_only[\"Cabin_Data\"] = cabin_only[\"cabin\"].isnull().apply(lambda x: not x)"
   ]
  },
  {
   "cell_type": "code",
   "execution_count": null,
   "id": "004628c2",
   "metadata": {},
   "outputs": [],
   "source": [
    "cabin_only[\"Deck\"] = cabin_only[\"cabin\"].str.slice(0,1)\n",
    "cabin_only[\"Room\"] = cabin_only[\"cabin\"].str.slice(1,5).str.extract(\"([0-9]+)\", expand=False).astype(\"float\")\n",
    "cabin_only[cabin_only[\"Cabin_Data\"]]\n"
   ]
  },
  {
   "cell_type": "code",
   "execution_count": null,
   "id": "9af66885",
   "metadata": {},
   "outputs": [],
   "source": [
    "cabin_only.drop([\"cabin\", \"Cabin_Data\"], axis=1, inplace=True, errors=\"ignore\")\n"
   ]
  },
  {
   "cell_type": "code",
   "execution_count": null,
   "id": "f1407c66",
   "metadata": {},
   "outputs": [],
   "source": [
    "cabin_only[\"Deck\"] = cabin_only[\"Deck\"].fillna(\"N\")\n",
    "cabin_only[\"Room\"] = cabin_only[\"Room\"].fillna(cabin_only[\"Room\"].mean())"
   ]
  },
  {
   "cell_type": "code",
   "execution_count": null,
   "id": "65bda0d0",
   "metadata": {},
   "outputs": [],
   "source": [
    "cabin_only.head(30)"
   ]
  },
  {
   "cell_type": "code",
   "execution_count": null,
   "id": "7086bed3",
   "metadata": {},
   "outputs": [],
   "source": [
    "df_train = df_train.join(cabin_only)\n"
   ]
  },
  {
   "cell_type": "code",
   "execution_count": null,
   "id": "54194a46",
   "metadata": {},
   "outputs": [],
   "source": [
    "df_train['Party_size']=df_train['sibsp']+df_train['parch']+1\n",
    "df_train.head(50)"
   ]
  },
  {
   "cell_type": "code",
   "execution_count": null,
   "id": "b488a429",
   "metadata": {},
   "outputs": [],
   "source": [
    "# attempt = df_train[['ticket','boat']].dropna().set_index('ticket')\n",
    "# attempt_dict = attempt.to_dict()\n",
    "# attempt_dict = list(attempt_dict.values())\n",
    "# attempt_dict\n",
    "# # df_train['attempted_boat'] = df_train['attempted_boat'].map(attempt_dict)\n"
   ]
  },
  {
   "cell_type": "code",
   "execution_count": null,
   "id": "571b55f0",
   "metadata": {},
   "outputs": [],
   "source": [
    "stair = []\n",
    "for x in range(0,len(df_train)):\n",
    "    deck = df_train[\"Deck\"][x]\n",
    "    room = df_train[\"Room\"][x]\n",
    "    if (deck ==\"A\") or (((deck==\"B\") or (deck==\"C\")) and (room < 70)) or (((deck==\"D\") or (deck==\"E\")) and (room < 50)):\n",
    "        stair.append(1)\n",
    "    else:(deck ==\"N\")\n",
    "        stair.append('N')\n",
    "    else: \n",
    "        stair.append(0)\n",
    "df_train[\"Stair\"]= stair\n",
    "\n",
    "df_train"
   ]
  },
  {
   "cell_type": "code",
   "execution_count": null,
   "id": "57bf1bb8",
   "metadata": {},
   "outputs": [],
   "source": []
  }
 ],
 "metadata": {
  "kernelspec": {
   "display_name": "Python [conda env:PythonData38] *",
   "language": "python",
   "name": "conda-env-PythonData38-py"
  },
  "language_info": {
   "codemirror_mode": {
    "name": "ipython",
    "version": 3
   },
   "file_extension": ".py",
   "mimetype": "text/x-python",
   "name": "python",
   "nbconvert_exporter": "python",
   "pygments_lexer": "ipython3",
   "version": "3.8.12"
  }
 },
 "nbformat": 4,
 "nbformat_minor": 5
}
